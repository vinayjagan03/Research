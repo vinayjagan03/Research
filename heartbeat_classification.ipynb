{
 "cells": [
  {
   "cell_type": "code",
   "execution_count": 1,
   "metadata": {},
   "outputs": [],
   "source": [
    "# Import libraries\n",
    "import numpy as np\n",
    "import pandas as pd\n",
    "import matplotlib.pyplot as plt"
   ]
  },
  {
   "cell_type": "code",
   "execution_count": 2,
   "metadata": {},
   "outputs": [
    {
     "data": {
      "text/html": [
       "<div>\n",
       "<style scoped>\n",
       "    .dataframe tbody tr th:only-of-type {\n",
       "        vertical-align: middle;\n",
       "    }\n",
       "\n",
       "    .dataframe tbody tr th {\n",
       "        vertical-align: top;\n",
       "    }\n",
       "\n",
       "    .dataframe thead th {\n",
       "        text-align: right;\n",
       "    }\n",
       "</style>\n",
       "<table border=\"1\" class=\"dataframe\">\n",
       "  <thead>\n",
       "    <tr style=\"text-align: right;\">\n",
       "      <th></th>\n",
       "      <th>9.779411554336547852e-01</th>\n",
       "      <th>9.264705777168273926e-01</th>\n",
       "      <th>6.813725233078002930e-01</th>\n",
       "      <th>2.450980395078659058e-01</th>\n",
       "      <th>1.544117629528045654e-01</th>\n",
       "      <th>1.911764740943908691e-01</th>\n",
       "      <th>1.519607901573181152e-01</th>\n",
       "      <th>8.578431606292724609e-02</th>\n",
       "      <th>5.882352963089942932e-02</th>\n",
       "      <th>4.901960864663124084e-02</th>\n",
       "      <th>...</th>\n",
       "      <th>0.000000000000000000e+00.79</th>\n",
       "      <th>0.000000000000000000e+00.80</th>\n",
       "      <th>0.000000000000000000e+00.81</th>\n",
       "      <th>0.000000000000000000e+00.82</th>\n",
       "      <th>0.000000000000000000e+00.83</th>\n",
       "      <th>0.000000000000000000e+00.84</th>\n",
       "      <th>0.000000000000000000e+00.85</th>\n",
       "      <th>0.000000000000000000e+00.86</th>\n",
       "      <th>0.000000000000000000e+00.87</th>\n",
       "      <th>0.000000000000000000e+00.88</th>\n",
       "    </tr>\n",
       "  </thead>\n",
       "  <tbody>\n",
       "    <tr>\n",
       "      <th>0</th>\n",
       "      <td>0.960114</td>\n",
       "      <td>0.863248</td>\n",
       "      <td>0.461538</td>\n",
       "      <td>0.196581</td>\n",
       "      <td>0.094017</td>\n",
       "      <td>0.125356</td>\n",
       "      <td>0.099715</td>\n",
       "      <td>0.088319</td>\n",
       "      <td>0.074074</td>\n",
       "      <td>0.082621</td>\n",
       "      <td>...</td>\n",
       "      <td>0.0</td>\n",
       "      <td>0.0</td>\n",
       "      <td>0.0</td>\n",
       "      <td>0.0</td>\n",
       "      <td>0.0</td>\n",
       "      <td>0.0</td>\n",
       "      <td>0.0</td>\n",
       "      <td>0.0</td>\n",
       "      <td>0.0</td>\n",
       "      <td>0.0</td>\n",
       "    </tr>\n",
       "    <tr>\n",
       "      <th>1</th>\n",
       "      <td>1.000000</td>\n",
       "      <td>0.659459</td>\n",
       "      <td>0.186486</td>\n",
       "      <td>0.070270</td>\n",
       "      <td>0.070270</td>\n",
       "      <td>0.059459</td>\n",
       "      <td>0.056757</td>\n",
       "      <td>0.043243</td>\n",
       "      <td>0.054054</td>\n",
       "      <td>0.045946</td>\n",
       "      <td>...</td>\n",
       "      <td>0.0</td>\n",
       "      <td>0.0</td>\n",
       "      <td>0.0</td>\n",
       "      <td>0.0</td>\n",
       "      <td>0.0</td>\n",
       "      <td>0.0</td>\n",
       "      <td>0.0</td>\n",
       "      <td>0.0</td>\n",
       "      <td>0.0</td>\n",
       "      <td>0.0</td>\n",
       "    </tr>\n",
       "    <tr>\n",
       "      <th>2</th>\n",
       "      <td>0.925414</td>\n",
       "      <td>0.665746</td>\n",
       "      <td>0.541436</td>\n",
       "      <td>0.276243</td>\n",
       "      <td>0.196133</td>\n",
       "      <td>0.077348</td>\n",
       "      <td>0.071823</td>\n",
       "      <td>0.060773</td>\n",
       "      <td>0.066298</td>\n",
       "      <td>0.058011</td>\n",
       "      <td>...</td>\n",
       "      <td>0.0</td>\n",
       "      <td>0.0</td>\n",
       "      <td>0.0</td>\n",
       "      <td>0.0</td>\n",
       "      <td>0.0</td>\n",
       "      <td>0.0</td>\n",
       "      <td>0.0</td>\n",
       "      <td>0.0</td>\n",
       "      <td>0.0</td>\n",
       "      <td>0.0</td>\n",
       "    </tr>\n",
       "    <tr>\n",
       "      <th>3</th>\n",
       "      <td>0.967136</td>\n",
       "      <td>1.000000</td>\n",
       "      <td>0.830986</td>\n",
       "      <td>0.586854</td>\n",
       "      <td>0.356808</td>\n",
       "      <td>0.248826</td>\n",
       "      <td>0.145540</td>\n",
       "      <td>0.089202</td>\n",
       "      <td>0.117371</td>\n",
       "      <td>0.150235</td>\n",
       "      <td>...</td>\n",
       "      <td>0.0</td>\n",
       "      <td>0.0</td>\n",
       "      <td>0.0</td>\n",
       "      <td>0.0</td>\n",
       "      <td>0.0</td>\n",
       "      <td>0.0</td>\n",
       "      <td>0.0</td>\n",
       "      <td>0.0</td>\n",
       "      <td>0.0</td>\n",
       "      <td>0.0</td>\n",
       "    </tr>\n",
       "    <tr>\n",
       "      <th>4</th>\n",
       "      <td>0.927461</td>\n",
       "      <td>1.000000</td>\n",
       "      <td>0.626943</td>\n",
       "      <td>0.193437</td>\n",
       "      <td>0.094991</td>\n",
       "      <td>0.072539</td>\n",
       "      <td>0.043178</td>\n",
       "      <td>0.053541</td>\n",
       "      <td>0.093264</td>\n",
       "      <td>0.189983</td>\n",
       "      <td>...</td>\n",
       "      <td>0.0</td>\n",
       "      <td>0.0</td>\n",
       "      <td>0.0</td>\n",
       "      <td>0.0</td>\n",
       "      <td>0.0</td>\n",
       "      <td>0.0</td>\n",
       "      <td>0.0</td>\n",
       "      <td>0.0</td>\n",
       "      <td>0.0</td>\n",
       "      <td>0.0</td>\n",
       "    </tr>\n",
       "  </tbody>\n",
       "</table>\n",
       "<p>5 rows × 188 columns</p>\n",
       "</div>"
      ],
      "text/plain": [
       "   9.779411554336547852e-01  9.264705777168273926e-01  \\\n",
       "0                  0.960114                  0.863248   \n",
       "1                  1.000000                  0.659459   \n",
       "2                  0.925414                  0.665746   \n",
       "3                  0.967136                  1.000000   \n",
       "4                  0.927461                  1.000000   \n",
       "\n",
       "   6.813725233078002930e-01  2.450980395078659058e-01  \\\n",
       "0                  0.461538                  0.196581   \n",
       "1                  0.186486                  0.070270   \n",
       "2                  0.541436                  0.276243   \n",
       "3                  0.830986                  0.586854   \n",
       "4                  0.626943                  0.193437   \n",
       "\n",
       "   1.544117629528045654e-01  1.911764740943908691e-01  \\\n",
       "0                  0.094017                  0.125356   \n",
       "1                  0.070270                  0.059459   \n",
       "2                  0.196133                  0.077348   \n",
       "3                  0.356808                  0.248826   \n",
       "4                  0.094991                  0.072539   \n",
       "\n",
       "   1.519607901573181152e-01  8.578431606292724609e-02  \\\n",
       "0                  0.099715                  0.088319   \n",
       "1                  0.056757                  0.043243   \n",
       "2                  0.071823                  0.060773   \n",
       "3                  0.145540                  0.089202   \n",
       "4                  0.043178                  0.053541   \n",
       "\n",
       "   5.882352963089942932e-02  4.901960864663124084e-02  ...  \\\n",
       "0                  0.074074                  0.082621  ...   \n",
       "1                  0.054054                  0.045946  ...   \n",
       "2                  0.066298                  0.058011  ...   \n",
       "3                  0.117371                  0.150235  ...   \n",
       "4                  0.093264                  0.189983  ...   \n",
       "\n",
       "   0.000000000000000000e+00.79  0.000000000000000000e+00.80  \\\n",
       "0                          0.0                          0.0   \n",
       "1                          0.0                          0.0   \n",
       "2                          0.0                          0.0   \n",
       "3                          0.0                          0.0   \n",
       "4                          0.0                          0.0   \n",
       "\n",
       "   0.000000000000000000e+00.81  0.000000000000000000e+00.82  \\\n",
       "0                          0.0                          0.0   \n",
       "1                          0.0                          0.0   \n",
       "2                          0.0                          0.0   \n",
       "3                          0.0                          0.0   \n",
       "4                          0.0                          0.0   \n",
       "\n",
       "   0.000000000000000000e+00.83  0.000000000000000000e+00.84  \\\n",
       "0                          0.0                          0.0   \n",
       "1                          0.0                          0.0   \n",
       "2                          0.0                          0.0   \n",
       "3                          0.0                          0.0   \n",
       "4                          0.0                          0.0   \n",
       "\n",
       "   0.000000000000000000e+00.85  0.000000000000000000e+00.86  \\\n",
       "0                          0.0                          0.0   \n",
       "1                          0.0                          0.0   \n",
       "2                          0.0                          0.0   \n",
       "3                          0.0                          0.0   \n",
       "4                          0.0                          0.0   \n",
       "\n",
       "   0.000000000000000000e+00.87  0.000000000000000000e+00.88  \n",
       "0                          0.0                          0.0  \n",
       "1                          0.0                          0.0  \n",
       "2                          0.0                          0.0  \n",
       "3                          0.0                          0.0  \n",
       "4                          0.0                          0.0  \n",
       "\n",
       "[5 rows x 188 columns]"
      ]
     },
     "execution_count": 2,
     "metadata": {},
     "output_type": "execute_result"
    }
   ],
   "source": [
    "# Import dataset\n",
    "training_set = pd.read_csv('mitbih_train.csv')\n",
    "training_set.head()"
   ]
  },
  {
   "cell_type": "code",
   "execution_count": 3,
   "metadata": {},
   "outputs": [
    {
     "data": {
      "image/png": "[encoded data removed]",
      "text/plain": [
       "<Figure size 432x288 with 1 Axes>"
      ]
     },
     "metadata": {},
     "output_type": "display_data"
    }
   ],
   "source": [
    "plt.plot(training_set.iloc[0, :-1])\n",
    "plt.title(training_set.iloc[0, -1])\n",
    "plt.show()"
   ]
  },
  {
   "cell_type": "code",
   "execution_count": 4,
   "metadata": {},
   "outputs": [
    {
     "data": {
      "text/plain": [
       "0.0    72470\n",
       "4.0     6431\n",
       "2.0     5788\n",
       "1.0     2223\n",
       "3.0      641\n",
       "Name: 0.000000000000000000e+00.88, dtype: int64"
      ]
     },
     "execution_count": 4,
     "metadata": {},
     "output_type": "execute_result"
    }
   ],
   "source": [
    "training_set.iloc[:, -1].value_counts()"
   ]
  },
  {
   "cell_type": "code",
   "execution_count": 5,
   "metadata": {},
   "outputs": [
    {
     "name": "stderr",
     "output_type": "stream",
     "text": [
      "Using TensorFlow backend.\n"
     ]
    },
    {
     "data": {
      "text/html": [
       "<div>\n",
       "<style scoped>\n",
       "    .dataframe tbody tr th:only-of-type {\n",
       "        vertical-align: middle;\n",
       "    }\n",
       "\n",
       "    .dataframe tbody tr th {\n",
       "        vertical-align: top;\n",
       "    }\n",
       "\n",
       "    .dataframe thead th {\n",
       "        text-align: right;\n",
       "    }\n",
       "</style>\n",
       "<table border=\"1\" class=\"dataframe\">\n",
       "  <thead>\n",
       "    <tr style=\"text-align: right;\">\n",
       "      <th></th>\n",
       "      <th>0</th>\n",
       "      <th>1</th>\n",
       "      <th>2</th>\n",
       "      <th>3</th>\n",
       "      <th>4</th>\n",
       "    </tr>\n",
       "  </thead>\n",
       "  <tbody>\n",
       "    <tr>\n",
       "      <th>0</th>\n",
       "      <td>1.0</td>\n",
       "      <td>0.0</td>\n",
       "      <td>0.0</td>\n",
       "      <td>0.0</td>\n",
       "      <td>0.0</td>\n",
       "    </tr>\n",
       "    <tr>\n",
       "      <th>1</th>\n",
       "      <td>1.0</td>\n",
       "      <td>0.0</td>\n",
       "      <td>0.0</td>\n",
       "      <td>0.0</td>\n",
       "      <td>0.0</td>\n",
       "    </tr>\n",
       "    <tr>\n",
       "      <th>2</th>\n",
       "      <td>1.0</td>\n",
       "      <td>0.0</td>\n",
       "      <td>0.0</td>\n",
       "      <td>0.0</td>\n",
       "      <td>0.0</td>\n",
       "    </tr>\n",
       "    <tr>\n",
       "      <th>3</th>\n",
       "      <td>1.0</td>\n",
       "      <td>0.0</td>\n",
       "      <td>0.0</td>\n",
       "      <td>0.0</td>\n",
       "      <td>0.0</td>\n",
       "    </tr>\n",
       "    <tr>\n",
       "      <th>4</th>\n",
       "      <td>1.0</td>\n",
       "      <td>0.0</td>\n",
       "      <td>0.0</td>\n",
       "      <td>0.0</td>\n",
       "      <td>0.0</td>\n",
       "    </tr>\n",
       "  </tbody>\n",
       "</table>\n",
       "</div>"
      ],
      "text/plain": [
       "     0    1    2    3    4\n",
       "0  1.0  0.0  0.0  0.0  0.0\n",
       "1  1.0  0.0  0.0  0.0  0.0\n",
       "2  1.0  0.0  0.0  0.0  0.0\n",
       "3  1.0  0.0  0.0  0.0  0.0\n",
       "4  1.0  0.0  0.0  0.0  0.0"
      ]
     },
     "execution_count": 5,
     "metadata": {},
     "output_type": "execute_result"
    }
   ],
   "source": [
    "X = np.expand_dims(np.array(training_set.iloc[:, :-1]), 2)\n",
    "Y = training_set.iloc[:, -1]\n",
    "from keras.utils import to_categorical\n",
    "Y = to_categorical(Y)\n",
    "pd.DataFrame(Y).head()"
   ]
  },
  {
   "cell_type": "code",
   "execution_count": 6,
   "metadata": {},
   "outputs": [
    {
     "data": {
      "text/plain": [
       "(87553, 187, 1)"
      ]
     },
     "execution_count": 6,
     "metadata": {},
     "output_type": "execute_result"
    }
   ],
   "source": [
    "X.shape"
   ]
  },
  {
   "cell_type": "code",
   "execution_count": 7,
   "metadata": {},
   "outputs": [
    {
     "name": "stdout",
     "output_type": "stream",
     "text": [
      "WARNING:tensorflow:From /home/ec2-user/anaconda3/envs/tensorflow_p36/lib/python3.6/site-packages/keras/backend/tensorflow_backend.py:74: The name tf.get_default_graph is deprecated. Please use tf.compat.v1.get_default_graph instead.\n",
      "\n",
      "WARNING:tensorflow:From /home/ec2-user/anaconda3/envs/tensorflow_p36/lib/python3.6/site-packages/keras/backend/tensorflow_backend.py:517: The name tf.placeholder is deprecated. Please use tf.compat.v1.placeholder instead.\n",
      "\n",
      "WARNING:tensorflow:From /home/ec2-user/anaconda3/envs/tensorflow_p36/lib/python3.6/site-packages/keras/backend/tensorflow_backend.py:4138: The name tf.random_uniform is deprecated. Please use tf.random.uniform instead.\n",
      "\n",
      "WARNING:tensorflow:From /home/ec2-user/anaconda3/envs/tensorflow_p36/lib/python3.6/site-packages/keras/backend/tensorflow_backend.py:3976: The name tf.nn.max_pool is deprecated. Please use tf.nn.max_pool2d instead.\n",
      "\n",
      "_________________________________________________________________\n",
      "Layer (type)                 Output Shape              Param #   \n",
      "=================================================================\n",
      "conv1d_1 (Conv1D)            (None, 183, 32)           192       \n",
      "_________________________________________________________________\n",
      "conv1d_2 (Conv1D)            (None, 183, 32)           5152      \n",
      "_________________________________________________________________\n",
      "conv1d_3 (Conv1D)            (None, 183, 32)           5152      \n",
      "_________________________________________________________________\n",
      "max_pooling1d_1 (MaxPooling1 (None, 90, 32)            0         \n",
      "_________________________________________________________________\n",
      "conv1d_4 (Conv1D)            (None, 90, 32)            5152      \n",
      "_________________________________________________________________\n",
      "conv1d_5 (Conv1D)            (None, 90, 32)            5152      \n",
      "_________________________________________________________________\n",
      "max_pooling1d_2 (MaxPooling1 (None, 43, 32)            0         \n",
      "_________________________________________________________________\n",
      "conv1d_6 (Conv1D)            (None, 43, 32)            5152      \n",
      "_________________________________________________________________\n",
      "conv1d_7 (Conv1D)            (None, 43, 32)            5152      \n",
      "_________________________________________________________________\n",
      "max_pooling1d_3 (MaxPooling1 (None, 20, 32)            0         \n",
      "_________________________________________________________________\n",
      "conv1d_8 (Conv1D)            (None, 20, 32)            5152      \n",
      "_________________________________________________________________\n",
      "conv1d_9 (Conv1D)            (None, 20, 32)            5152      \n",
      "_________________________________________________________________\n",
      "max_pooling1d_4 (MaxPooling1 (None, 8, 32)             0         \n",
      "_________________________________________________________________\n",
      "flatten_1 (Flatten)          (None, 256)               0         \n",
      "_________________________________________________________________\n",
      "dense_1 (Dense)              (None, 32)                8224      \n",
      "_________________________________________________________________\n",
      "dense_2 (Dense)              (None, 32)                1056      \n",
      "_________________________________________________________________\n",
      "dense_3 (Dense)              (None, 5)                 165       \n",
      "=================================================================\n",
      "Total params: 50,853\n",
      "Trainable params: 50,853\n",
      "Non-trainable params: 0\n",
      "_________________________________________________________________\n"
     ]
    }
   ],
   "source": [
    "from keras.models import Sequential\n",
    "from keras.layers import *\n",
    "\n",
    "model = Sequential()\n",
    "model.add(Conv1D(filters=32, kernel_size=5, strides=1, input_shape=(187, 1)))\n",
    "\n",
    "model.add(Conv1D(filters=32, kernel_size=5, strides=1, activation='relu', padding='same'))\n",
    "model.add(Conv1D(filters=32, kernel_size=5, strides=1, activation='relu', padding='same'))\n",
    "model.add(MaxPooling1D(pool_size=5, strides=2))\n",
    "\n",
    "for i in range(3):\n",
    "    model.add(Conv1D(filters=32, kernel_size=5, strides=1, activation='relu', padding='same'))\n",
    "    model.add(Conv1D(filters=32, kernel_size=5, strides=1, activation='relu', padding='same'))\n",
    "    model.add(MaxPooling1D(pool_size=5, strides=2))\n",
    "\n",
    "model.add(Flatten())\n",
    "\n",
    "model.add(Dense(32, activation='relu'))\n",
    "model.add(Dense(32, activation='relu'))\n",
    "model.add(Dense(5, activation='softmax'))\n",
    "\n",
    "model.summary()"
   ]
  },
  {
   "cell_type": "code",
   "execution_count": 8,
   "metadata": {},
   "outputs": [
    {
     "name": "stdout",
     "output_type": "stream",
     "text": [
      "WARNING:tensorflow:From /home/ec2-user/anaconda3/envs/tensorflow_p36/lib/python3.6/site-packages/keras/optimizers.py:790: The name tf.train.Optimizer is deprecated. Please use tf.compat.v1.train.Optimizer instead.\n",
      "\n",
      "WARNING:tensorflow:From /home/ec2-user/anaconda3/envs/tensorflow_p36/lib/python3.6/site-packages/keras/backend/tensorflow_backend.py:3295: The name tf.log is deprecated. Please use tf.math.log instead.\n",
      "\n"
     ]
    }
   ],
   "source": [
    "model.compile(loss='categorical_crossentropy', optimizer='adam', metrics=['accuracy'])"
   ]
  },
  {
   "cell_type": "code",
   "execution_count": 9,
   "metadata": {},
   "outputs": [
    {
     "name": "stdout",
     "output_type": "stream",
     "text": [
      "WARNING:tensorflow:From /home/ec2-user/anaconda3/envs/tensorflow_p36/lib/python3.6/site-packages/tensorflow/python/ops/math_grad.py:1250: add_dispatch_support.<locals>.wrapper (from tensorflow.python.ops.array_ops) is deprecated and will be removed in a future version.\n",
      "Instructions for updating:\n",
      "Use tf.where in 2.0, which has the same broadcast rule as np.where\n",
      "WARNING:tensorflow:From /home/ec2-user/anaconda3/envs/tensorflow_p36/lib/python3.6/site-packages/keras/backend/tensorflow_backend.py:986: The name tf.assign_add is deprecated. Please use tf.compat.v1.assign_add instead.\n",
      "\n",
      "Train on 87553 samples, validate on 21891 samples\n",
      "Epoch 1/50\n",
      "87553/87553 [==============================] - 65s 739us/step - loss: 0.2997 - acc: 0.9170 - val_loss: 0.1921 - val_acc: 0.9462\n",
      "Epoch 2/50\n",
      "87553/87553 [==============================] - 8s 87us/step - loss: 0.1378 - acc: 0.9609 - val_loss: 0.1205 - val_acc: 0.9668\n",
      "Epoch 3/50\n",
      "87553/87553 [==============================] - 8s 86us/step - loss: 0.1082 - acc: 0.9699 - val_loss: 0.0967 - val_acc: 0.9732\n",
      "Epoch 4/50\n",
      "87553/87553 [==============================] - 8s 86us/step - loss: 0.0937 - acc: 0.9735 - val_loss: 0.0912 - val_acc: 0.9750\n",
      "Epoch 5/50\n",
      "87553/87553 [==============================] - 8s 86us/step - loss: 0.0811 - acc: 0.9769 - val_loss: 0.1170 - val_acc: 0.9656\n",
      "Epoch 6/50\n",
      "87553/87553 [==============================] - 8s 86us/step - loss: 0.0734 - acc: 0.9791 - val_loss: 0.0870 - val_acc: 0.9766\n",
      "Epoch 7/50\n",
      "87553/87553 [==============================] - 7s 85us/step - loss: 0.0698 - acc: 0.9807 - val_loss: 0.0819 - val_acc: 0.9785\n",
      "Epoch 8/50\n",
      "87553/87553 [==============================] - 8s 86us/step - loss: 0.0636 - acc: 0.9821 - val_loss: 0.0719 - val_acc: 0.9814\n",
      "Epoch 9/50\n",
      "87553/87553 [==============================] - 8s 88us/step - loss: 0.0597 - acc: 0.9828 - val_loss: 0.0772 - val_acc: 0.9787\n",
      "Epoch 10/50\n",
      "87553/87553 [==============================] - 8s 86us/step - loss: 0.0554 - acc: 0.9841 - val_loss: 0.0756 - val_acc: 0.9803\n",
      "Epoch 11/50\n",
      "87553/87553 [==============================] - 8s 86us/step - loss: 0.0528 - acc: 0.9845 - val_loss: 0.0723 - val_acc: 0.9796\n",
      "Epoch 12/50\n",
      "87553/87553 [==============================] - 8s 87us/step - loss: 0.0503 - acc: 0.9854 - val_loss: 0.0709 - val_acc: 0.9810\n",
      "Epoch 13/50\n",
      "87553/87553 [==============================] - 8s 87us/step - loss: 0.0475 - acc: 0.9855 - val_loss: 0.0655 - val_acc: 0.9824\n",
      "Epoch 14/50\n",
      "87553/87553 [==============================] - 8s 86us/step - loss: 0.0448 - acc: 0.9865 - val_loss: 0.0654 - val_acc: 0.9827\n",
      "Epoch 15/50\n",
      "87553/87553 [==============================] - 8s 86us/step - loss: 0.0427 - acc: 0.9871 - val_loss: 0.0644 - val_acc: 0.9827\n",
      "Epoch 16/50\n",
      "87553/87553 [==============================] - 8s 86us/step - loss: 0.0429 - acc: 0.9869 - val_loss: 0.0638 - val_acc: 0.9831\n",
      "Epoch 17/50\n",
      "87553/87553 [==============================] - 8s 87us/step - loss: 0.0403 - acc: 0.9874 - val_loss: 0.0718 - val_acc: 0.9821\n",
      "Epoch 18/50\n",
      "87553/87553 [==============================] - 8s 87us/step - loss: 0.0390 - acc: 0.9874 - val_loss: 0.0805 - val_acc: 0.9783\n",
      "Epoch 19/50\n",
      "87553/87553 [==============================] - 8s 86us/step - loss: 0.0389 - acc: 0.9879 - val_loss: 0.0636 - val_acc: 0.9833\n",
      "Epoch 20/50\n",
      "87553/87553 [==============================] - 8s 86us/step - loss: 0.0368 - acc: 0.9890 - val_loss: 0.0673 - val_acc: 0.9816\n",
      "Epoch 21/50\n",
      "87553/87553 [==============================] - 7s 86us/step - loss: 0.0341 - acc: 0.9896 - val_loss: 0.0616 - val_acc: 0.9838\n",
      "Epoch 22/50\n",
      "87553/87553 [==============================] - 8s 86us/step - loss: 0.0337 - acc: 0.9895 - val_loss: 0.0751 - val_acc: 0.9808\n",
      "Epoch 23/50\n",
      "87553/87553 [==============================] - 8s 86us/step - loss: 0.0338 - acc: 0.9896 - val_loss: 0.0658 - val_acc: 0.9827\n",
      "Epoch 24/50\n",
      "87553/87553 [==============================] - 8s 88us/step - loss: 0.0335 - acc: 0.9897 - val_loss: 0.0625 - val_acc: 0.9835\n",
      "Epoch 25/50\n",
      "87553/87553 [==============================] - 8s 87us/step - loss: 0.0314 - acc: 0.9904 - val_loss: 0.0613 - val_acc: 0.9845\n",
      "Epoch 26/50\n",
      "87553/87553 [==============================] - 8s 88us/step - loss: 0.0297 - acc: 0.9905 - val_loss: 0.0669 - val_acc: 0.9820\n",
      "Epoch 27/50\n",
      "87553/87553 [==============================] - 8s 87us/step - loss: 0.0287 - acc: 0.9907 - val_loss: 0.0722 - val_acc: 0.9841\n",
      "Epoch 28/50\n",
      "87553/87553 [==============================] - 8s 86us/step - loss: 0.0290 - acc: 0.9906 - val_loss: 0.0596 - val_acc: 0.9839\n",
      "Epoch 29/50\n",
      "87553/87553 [==============================] - 8s 86us/step - loss: 0.0285 - acc: 0.9911 - val_loss: 0.0654 - val_acc: 0.9839\n",
      "Epoch 30/50\n",
      "87553/87553 [==============================] - 8s 87us/step - loss: 0.0267 - acc: 0.9915 - val_loss: 0.0642 - val_acc: 0.9852\n",
      "Epoch 31/50\n",
      "87553/87553 [==============================] - 8s 87us/step - loss: 0.0269 - acc: 0.9915 - val_loss: 0.0620 - val_acc: 0.9856\n",
      "Epoch 32/50\n",
      "87553/87553 [==============================] - 8s 87us/step - loss: 0.0268 - acc: 0.9914 - val_loss: 0.0588 - val_acc: 0.9855\n",
      "Epoch 33/50\n",
      "87553/87553 [==============================] - 8s 87us/step - loss: 0.0257 - acc: 0.9918 - val_loss: 0.0619 - val_acc: 0.9861\n",
      "Epoch 34/50\n",
      "87553/87553 [==============================] - 8s 87us/step - loss: 0.0257 - acc: 0.9917 - val_loss: 0.0741 - val_acc: 0.9809\n",
      "Epoch 35/50\n",
      "87553/87553 [==============================] - 8s 86us/step - loss: 0.0247 - acc: 0.9923 - val_loss: 0.0660 - val_acc: 0.9863\n",
      "Epoch 36/50\n",
      "87553/87553 [==============================] - 8s 86us/step - loss: 0.0237 - acc: 0.9924 - val_loss: 0.0585 - val_acc: 0.9855\n",
      "Epoch 37/50\n",
      "87553/87553 [==============================] - 7s 85us/step - loss: 0.0246 - acc: 0.9915 - val_loss: 0.0607 - val_acc: 0.9849\n",
      "Epoch 38/50\n",
      "87553/87553 [==============================] - 8s 86us/step - loss: 0.0228 - acc: 0.9923 - val_loss: 0.0650 - val_acc: 0.9838\n",
      "Epoch 39/50\n",
      "87553/87553 [==============================] - 8s 86us/step - loss: 0.0236 - acc: 0.9922 - val_loss: 0.0653 - val_acc: 0.9849\n",
      "Epoch 40/50\n",
      "87553/87553 [==============================] - 8s 86us/step - loss: 0.0235 - acc: 0.9921 - val_loss: 0.0722 - val_acc: 0.9840\n",
      "Epoch 41/50\n",
      "87553/87553 [==============================] - 8s 86us/step - loss: 0.0217 - acc: 0.9927 - val_loss: 0.0754 - val_acc: 0.9839\n",
      "Epoch 42/50\n",
      "87553/87553 [==============================] - 8s 87us/step - loss: 0.0213 - acc: 0.9928 - val_loss: 0.0643 - val_acc: 0.9847\n",
      "Epoch 43/50\n",
      "87553/87553 [==============================] - 8s 87us/step - loss: 0.0218 - acc: 0.9930 - val_loss: 0.0614 - val_acc: 0.9854\n",
      "Epoch 44/50\n",
      "87553/87553 [==============================] - 8s 87us/step - loss: 0.0208 - acc: 0.9933 - val_loss: 0.0686 - val_acc: 0.9861\n",
      "Epoch 45/50\n",
      "87553/87553 [==============================] - 8s 88us/step - loss: 0.0213 - acc: 0.9929 - val_loss: 0.0731 - val_acc: 0.9843\n",
      "Epoch 46/50\n",
      "87553/87553 [==============================] - 8s 87us/step - loss: 0.0198 - acc: 0.9932 - val_loss: 0.0692 - val_acc: 0.9853\n",
      "Epoch 47/50\n",
      "87553/87553 [==============================] - 8s 86us/step - loss: 0.0189 - acc: 0.9938 - val_loss: 0.0737 - val_acc: 0.9851\n",
      "Epoch 48/50\n",
      "87553/87553 [==============================] - 8s 86us/step - loss: 0.0201 - acc: 0.9932 - val_loss: 0.0667 - val_acc: 0.9842\n",
      "Epoch 49/50\n",
      "87553/87553 [==============================] - 8s 86us/step - loss: 0.0192 - acc: 0.9934 - val_loss: 0.0703 - val_acc: 0.9858\n",
      "Epoch 50/50\n",
      "87553/87553 [==============================] - 8s 86us/step - loss: 0.0184 - acc: 0.9935 - val_loss: 0.0711 - val_acc: 0.9835\n"
     ]
    },
    {
     "data": {
      "text/plain": [
       "<keras.callbacks.History at 0x7f8980df6cf8>"
      ]
     },
     "execution_count": 9,
     "metadata": {},
     "output_type": "execute_result"
    }
   ],
   "source": [
    "testset = pd.read_csv('mitbih_test.csv')\n",
    "X_test = np.expand_dims(np.array(testset.iloc[:, :-1]), 2)\n",
    "Y_test = to_categorical(testset.iloc[:, -1])\n",
    "\n",
    "model.fit(X, Y, epochs=50, batch_size=100, validation_data=(X_test, Y_test))"
   ]
  },
  {
   "cell_type": "code",
   "execution_count": 10,
   "metadata": {},
   "outputs": [],
   "source": [
    "Y_pred = model.predict(X_test)"
   ]
  },
  {
   "cell_type": "code",
   "execution_count": 11,
   "metadata": {},
   "outputs": [],
   "source": [
    "Y_pred1 = np.array(Y_pred).argmax(axis=1)"
   ]
  },
  {
   "cell_type": "code",
   "execution_count": 12,
   "metadata": {},
   "outputs": [],
   "source": [
    "Y_test = np.array(Y_test).argmax(axis=1)"
   ]
  },
  {
   "cell_type": "code",
   "execution_count": 13,
   "metadata": {},
   "outputs": [],
   "source": [
    "from sklearn.metrics import confusion_matrix\n",
    "cm = confusion_matrix(Y_test, Y_pred1)"
   ]
  },
  {
   "cell_type": "code",
   "execution_count": 14,
   "metadata": {},
   "outputs": [
    {
     "data": {
      "text/html": [
       "<div>\n",
       "<style scoped>\n",
       "    .dataframe tbody tr th:only-of-type {\n",
       "        vertical-align: middle;\n",
       "    }\n",
       "\n",
       "    .dataframe tbody tr th {\n",
       "        vertical-align: top;\n",
       "    }\n",
       "\n",
       "    .dataframe thead th {\n",
       "        text-align: right;\n",
       "    }\n",
       "</style>\n",
       "<table border=\"1\" class=\"dataframe\">\n",
       "  <thead>\n",
       "    <tr style=\"text-align: right;\">\n",
       "      <th></th>\n",
       "      <th>0</th>\n",
       "      <th>1</th>\n",
       "      <th>2</th>\n",
       "      <th>3</th>\n",
       "      <th>4</th>\n",
       "    </tr>\n",
       "  </thead>\n",
       "  <tbody>\n",
       "    <tr>\n",
       "      <th>0</th>\n",
       "      <td>17980</td>\n",
       "      <td>53</td>\n",
       "      <td>39</td>\n",
       "      <td>10</td>\n",
       "      <td>35</td>\n",
       "    </tr>\n",
       "    <tr>\n",
       "      <th>1</th>\n",
       "      <td>98</td>\n",
       "      <td>443</td>\n",
       "      <td>13</td>\n",
       "      <td>0</td>\n",
       "      <td>2</td>\n",
       "    </tr>\n",
       "    <tr>\n",
       "      <th>2</th>\n",
       "      <td>29</td>\n",
       "      <td>3</td>\n",
       "      <td>1398</td>\n",
       "      <td>14</td>\n",
       "      <td>4</td>\n",
       "    </tr>\n",
       "    <tr>\n",
       "      <th>3</th>\n",
       "      <td>29</td>\n",
       "      <td>0</td>\n",
       "      <td>15</td>\n",
       "      <td>116</td>\n",
       "      <td>2</td>\n",
       "    </tr>\n",
       "    <tr>\n",
       "      <th>4</th>\n",
       "      <td>11</td>\n",
       "      <td>1</td>\n",
       "      <td>3</td>\n",
       "      <td>0</td>\n",
       "      <td>1593</td>\n",
       "    </tr>\n",
       "  </tbody>\n",
       "</table>\n",
       "</div>"
      ],
      "text/plain": [
       "       0    1     2    3     4\n",
       "0  17980   53    39   10    35\n",
       "1     98  443    13    0     2\n",
       "2     29    3  1398   14     4\n",
       "3     29    0    15  116     2\n",
       "4     11    1     3    0  1593"
      ]
     },
     "execution_count": 14,
     "metadata": {},
     "output_type": "execute_result"
    }
   ],
   "source": [
    "pd.DataFrame(cm)"
   ]
  },
  {
   "cell_type": "code",
   "execution_count": 15,
   "metadata": {},
   "outputs": [],
   "source": [
    "from sklearn.utils.multiclass import unique_labels\n",
    "def plot_confusion_matrix(y_true, y_pred, classes,\n",
    "                          normalize=False,\n",
    "                          title=None,\n",
    "                          cmap=plt.cm.Blues):\n",
    "    \"\"\"\n",
    "    This function prints and plots the confusion matrix.\n",
    "    Normalization can be applied by setting `normalize=True`.\n",
    "    \"\"\"\n",
    "    if not title:\n",
    "        if normalize:\n",
    "            title = 'Normalized confusion matrix'\n",
    "        else:\n",
    "            title = 'Confusion matrix, without normalization'\n",
    "\n",
    "    # Compute confusion matrix\n",
    "    cm = confusion_matrix(y_true, y_pred)\n",
    "    if normalize:\n",
    "        cm = cm.astype('float') / cm.sum(axis=1)[:, np.newaxis]\n",
    "        print(\"Normalized confusion matrix\")\n",
    "    else:\n",
    "        print('Confusion matrix, without normalization')\n",
    "\n",
    "    print(cm)\n",
    "\n",
    "    fig, ax = plt.subplots()\n",
    "    im = ax.imshow(cm, interpolation='nearest', cmap=cmap)\n",
    "    ax.figure.colorbar(im, ax=ax)\n",
    "    # We want to show all ticks...\n",
    "    ax.set(xticks=np.arange(cm.shape[1]),\n",
    "           yticks=np.arange(cm.shape[0]),\n",
    "           # ... and label them with the respective list entries\n",
    "           xticklabels=classes, yticklabels=classes,\n",
    "           title=title,\n",
    "           ylabel='True label',\n",
    "           xlabel='Predicted label')\n",
    "\n",
    "    # Rotate the tick labels and set their alignment.\n",
    "    plt.setp(ax.get_xticklabels(), rotation=45, ha=\"right\",\n",
    "             rotation_mode=\"anchor\")\n",
    "\n",
    "    # Loop over data dimensions and create text annotations.\n",
    "    fmt = '.2f' if normalize else 'd'\n",
    "    thresh = cm.max() / 2.\n",
    "    for i in range(cm.shape[0]):\n",
    "        for j in range(cm.shape[1]):\n",
    "            ax.text(j, i, format(cm[i, j], fmt),\n",
    "                    ha=\"center\", va=\"center\",\n",
    "                    color=\"white\" if cm[i, j] > thresh else \"black\")\n",
    "    fig.tight_layout()\n",
    "    return ax\n"
   ]
  },
  {
   "cell_type": "code",
   "execution_count": 16,
   "metadata": {},
   "outputs": [
    {
     "name": "stdout",
     "output_type": "stream",
     "text": [
      "Confusion matrix, without normalization\n",
      "[[17980    53    39    10    35]\n",
      " [   98   443    13     0     2]\n",
      " [   29     3  1398    14     4]\n",
      " [   29     0    15   116     2]\n",
      " [   11     1     3     0  1593]]\n"
     ]
    },
    {
     "data": {
      "text/plain": [
       "<matplotlib.axes._subplots.AxesSubplot at 0x7f88c4267a20>"
      ]
     },
     "execution_count": 16,
     "metadata": {},
     "output_type": "execute_result"
    },
    {
     "data": {
      "image/png": "[encoded data removed]",
      "text/plain": [
       "<Figure size 432x288 with 2 Axes>"
      ]
     },
     "metadata": {},
     "output_type": "display_data"
    }
   ],
   "source": [
    "plot_confusion_matrix(Y_test, Y_pred1, classes=['N', 'S', 'V', 'F', 'Q'], title='Confusion matrix, without normalization')"
   ]
  },
  {
   "cell_type": "code",
   "execution_count": 17,
   "metadata": {},
   "outputs": [
    {
     "name": "stdout",
     "output_type": "stream",
     "text": [
      "Normalized confusion matrix\n",
      "[[9.92438042e-01 2.92542915e-03 2.15267428e-03 5.51967765e-04\n",
      "  1.93188718e-03]\n",
      " [1.76258993e-01 7.96762590e-01 2.33812950e-02 0.00000000e+00\n",
      "  3.59712230e-03]\n",
      " [2.00276243e-02 2.07182320e-03 9.65469613e-01 9.66850829e-03\n",
      "  2.76243094e-03]\n",
      " [1.79012346e-01 0.00000000e+00 9.25925926e-02 7.16049383e-01\n",
      "  1.23456790e-02]\n",
      " [6.84079602e-03 6.21890547e-04 1.86567164e-03 0.00000000e+00\n",
      "  9.90671642e-01]]\n"
     ]
    },
    {
     "data": {
      "text/plain": [
       "<matplotlib.axes._subplots.AxesSubplot at 0x7f88c41a9860>"
      ]
     },
     "execution_count": 17,
     "metadata": {},
     "output_type": "execute_result"
    },
    {
     "data": {
      "image/png": "[encoded data removed]",
      "text/plain": [
       "<Figure size 432x288 with 2 Axes>"
      ]
     },
     "metadata": {},
     "output_type": "display_data"
    }
   ],
   "source": [
    "plot_confusion_matrix(Y_test, Y_pred1, classes=['N', 'S', 'V', 'F', 'Q'], normalize=True,\n",
    "                      title='Normalized confusion matrix')"
   ]
  },
  {
   "cell_type": "code",
   "execution_count": 18,
   "metadata": {},
   "outputs": [
    {
     "name": "stdout",
     "output_type": "stream",
     "text": [
      "Model saved!\n"
     ]
    }
   ],
   "source": [
    "model_json = model.to_json()\n",
    "with open('model.json', 'w') as json_file:\n",
    "    json_file.write(model_json)\n",
    "model.save_weights('model.h5')\n",
    "print('Model saved!')"
   ]
  },
  {
   "cell_type": "code",
   "execution_count": null,
   "metadata": {},
   "outputs": [],
   "source": []
  }
 ],
 "metadata": {
  "kernelspec": {
   "display_name": "conda_tensorflow_p36",
   "language": "python",
   "name": "conda_tensorflow_p36"
  },
  "language_info": {
   "codemirror_mode": {
    "name": "ipython",
    "version": 3
   },
   "file_extension": ".py",
   "mimetype": "text/x-python",
   "name": "python",
   "nbconvert_exporter": "python",
   "pygments_lexer": "ipython3",
   "version": "3.6.5"
  }
 },
 "nbformat": 4,
 "nbformat_minor": 4
}
